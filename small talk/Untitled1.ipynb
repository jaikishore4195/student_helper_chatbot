{
 "cells": [
  {
   "cell_type": "code",
   "execution_count": 19,
   "metadata": {},
   "outputs": [
    {
     "name": "stdout",
     "output_type": "stream",
     "text": [
      "human: quit\n",
      "bot: bye bye\n"
     ]
    }
   ],
   "source": [
    "import pickle\n",
    "import random\n",
    "import numpy as np\n",
    "with open('small_talk_model.pkl', 'rb') as pickle_load:\n",
    "    tfidf1 = pickle.load(pickle_load)\n",
    "    \n",
    "with open('sparse_small_transformed.pkl', 'rb') as pickle_load:\n",
    "    a1 = pickle.load(pickle_load)\n",
    "    \n",
    "with open('small_talk_answers.pkl', 'rb') as pickle_load:\n",
    "    ans1 = pickle.load(pickle_load)\n",
    "    \n",
    "from sklearn.metrics.pairwise import cosine_similarity\n",
    "\n",
    "exit_words = ['quit','end','bye','stop','exit']\n",
    "\n",
    "def small_talk():\n",
    "    \n",
    "    sen = input(\"human: \")\n",
    "    \n",
    "    if sen in exit_words:\n",
    "        return print(\"bot: bye bye\")\n",
    "    \n",
    "    b1 = tfidf1.transform([sen])\n",
    "    z1 = cosine_similarity(a1,b1)\n",
    "    \n",
    "    print(\"bot: \",ans1[random.choice([i for i in range(len(z1)) if z1[i] == z1[np.argmax(z1)][0]])])\n",
    "    \n",
    "    return small_talk()\n",
    "small_talk()"
   ]
  },
  {
   "cell_type": "code",
   "execution_count": null,
   "metadata": {
    "collapsed": true
   },
   "outputs": [],
   "source": []
  }
 ],
 "metadata": {
  "kernelspec": {
   "display_name": "Python 3",
   "language": "python",
   "name": "python3"
  },
  "language_info": {
   "codemirror_mode": {
    "name": "ipython",
    "version": 3
   },
   "file_extension": ".py",
   "mimetype": "text/x-python",
   "name": "python",
   "nbconvert_exporter": "python",
   "pygments_lexer": "ipython3",
   "version": "3.6.3"
  }
 },
 "nbformat": 4,
 "nbformat_minor": 2
}
