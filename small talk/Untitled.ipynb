{
 "cells": [
  {
   "cell_type": "code",
   "execution_count": 1,
   "metadata": {
    "collapsed": true
   },
   "outputs": [],
   "source": [
    "import random\n",
    "import numpy as np\n",
    "import pickle\n",
    "\n",
    "file = open(\"data.txt\",'r')\n",
    "\n",
    "\n",
    "# In[2]:\n",
    "\n",
    "\n",
    "data = [i for i in file]\n",
    "\n",
    "\n",
    "# In[3]:\n",
    "\n",
    "\n",
    "ques = []\n",
    "ans = []\n",
    "\n",
    "\n",
    "# In[4]:\n",
    "\n",
    "\n",
    "for i in range(len(data)):\n",
    "    if data[i][0:3] == '- -':\n",
    "        ques.append(data[i])\n",
    "        ans.append(data[i+1])\n",
    "        i = i + 1\n",
    "        \n",
    "\n",
    "\n",
    "# In[6]:\n",
    "\n",
    "\n",
    "import re\n",
    "for i in range(len(ques)):\n",
    "    ques[i] = re.sub('\\W+',' ', ques[i] )\n",
    "    ans[i] = re.sub('\\W+',' ', ans[i] )\n",
    "    ques[i] = ques[i][1:-1]\n",
    "    ans[i] = ans[i][1:-1]"
   ]
  },
  {
   "cell_type": "code",
   "execution_count": 2,
   "metadata": {},
   "outputs": [
    {
     "data": {
      "text/plain": [
       "'What is AI'"
      ]
     },
     "execution_count": 2,
     "metadata": {},
     "output_type": "execute_result"
    }
   ],
   "source": [
    "ques[0]"
   ]
  },
  {
   "cell_type": "code",
   "execution_count": null,
   "metadata": {
    "collapsed": true
   },
   "outputs": [],
   "source": [
    "with open('small_talk_model.pkl', 'rb') as pickle_load:\n",
    "    tfidf1 = pickle.load(pickle_load)"
   ]
  }
 ],
 "metadata": {
  "kernelspec": {
   "display_name": "Python 3",
   "language": "python",
   "name": "python3"
  },
  "language_info": {
   "codemirror_mode": {
    "name": "ipython",
    "version": 3
   },
   "file_extension": ".py",
   "mimetype": "text/x-python",
   "name": "python",
   "nbconvert_exporter": "python",
   "pygments_lexer": "ipython3",
   "version": "3.6.3"
  }
 },
 "nbformat": 4,
 "nbformat_minor": 2
}
