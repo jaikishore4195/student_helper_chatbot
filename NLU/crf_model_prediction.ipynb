{
 "cells": [
  {
   "cell_type": "code",
   "execution_count": 168,
   "metadata": {
    "collapsed": true
   },
   "outputs": [],
   "source": [
    "import pickle\n",
    "import numpy as np\n",
    "from sklearn_crfsuite import CRF\n",
    "import re\n",
    "import editdistance"
   ]
  },
  {
   "cell_type": "code",
   "execution_count": 194,
   "metadata": {
    "collapsed": true
   },
   "outputs": [],
   "source": [
    "ordinal_num={'first':1,'second':2,'third':3,'fourth':4,'fifth':5,'sixth':6,'seventh':7,'eight':8,'ninth':9,\n",
    "            'tenth':10}\n",
    "\n",
    "vocab=['first','second','third','fourth','fifth','sixth','seventh','eight','ninth','tenth']\n",
    "\n",
    "with open('crf_model.pkl', 'rb') as pickle_load:\n",
    "    crf = pickle.load(pickle_load)\n",
    "with open('subjects.pkl','rb') as pickle_load:\n",
    "    subjects=pickle.load(pickle_load)\n",
    "\n",
    "def edit_dis(word):\n",
    "    ordinals=re.findall(r'\\d+',word)\n",
    "    if len(ordinals)==0:\n",
    "        dist=[]\n",
    "        for i in range(0,len(vocab)):\n",
    "            if word[0]==vocab[i][0]:\n",
    "                dist.append(editdistance.eval(word,vocab[i]))\n",
    "            else:\n",
    "                dist.append(100)\n",
    "        return ordinal_num[vocab[dist.index(min(dist))]]   \n",
    "    \n",
    "    else:\n",
    "        return int(ordinals[0])\n",
    "    \n",
    "def edit_dis_subject(subject):\n",
    "    dist=[]\n",
    "    for i in range(0,len(subjects)):        \n",
    "        dist.append((editdistance.eval(subject,subjects[i]))/len(subjects[i]))\n",
    "    return subjects[dist.index(min(dist))]"
   ]
  },
  {
   "cell_type": "code",
   "execution_count": 195,
   "metadata": {
    "collapsed": true
   },
   "outputs": [],
   "source": [
    "def entity_pred(sen):\n",
    "    \n",
    "    sen=[sen.split()]\n",
    "    predic=crf.predict(sen)\n",
    "    predic=predic[0]\n",
    "    entities=[]\n",
    "    subj=\"\"\n",
    "    day=\"\"\n",
    "    for i in range(0,len(predic)):\n",
    "        if predic[i]=='count':\n",
    "            num=edit_dis(sen[0][i])\n",
    "            entities.append((num,predic[i]))\n",
    "        elif predic[i]=='subject':\n",
    "            subj=subj+sen[0][i]+\" \"\n",
    "        elif predic[i]=='day':\n",
    "            day=day+sen[0][i]+\" \"\n",
    "        elif predic[i]!='0':\n",
    "            entities.append((sen[0][i],predic[i]))\n",
    "    if subj!=\"\":\n",
    "        entities.append((edit_dis_subject(subj[:-1]),'subject'))\n",
    "    if day!=\"\":\n",
    "        entities.append((day[:-1],'day'))\n",
    "    \n",
    "    return (entities,predic,sen)"
   ]
  }
 ],
 "metadata": {
  "kernelspec": {
   "display_name": "Python 3",
   "language": "python",
   "name": "python3"
  },
  "language_info": {
   "codemirror_mode": {
    "name": "ipython",
    "version": 3
   },
   "file_extension": ".py",
   "mimetype": "text/x-python",
   "name": "python",
   "nbconvert_exporter": "python",
   "pygments_lexer": "ipython3",
   "version": "3.6.3"
  }
 },
 "nbformat": 4,
 "nbformat_minor": 2
}
