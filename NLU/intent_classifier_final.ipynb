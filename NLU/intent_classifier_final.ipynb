{
 "cells": [
  {
   "cell_type": "code",
   "execution_count": 13,
   "metadata": {
    "collapsed": true
   },
   "outputs": [],
   "source": [
    "from keras.models import load_model\n",
    "from gensim.models import Word2Vec\n",
    "import editdistance\n",
    "import numpy as np\n",
    "import editdistance\n",
    "\n",
    "\n",
    "target_classes = ['check_all_classes' ,'check_assignment_due', 'check_when_class', 'check_particular_class' , 'check_where_class' , 'add_reminder']\n",
    "model_inf = load_model('intent_model.h5')\n",
    "w2v = Word2Vec.load('w2v_model_for_intent_classification.model')\n",
    "\n",
    "def intent_classifier(sent):\n",
    "    \n",
    "    def unk_words(unk):\n",
    "        mini = 10\n",
    "        for i in range(len(w2v.wv.vocab)):\n",
    "            dist = editdistance.eval(unk,list(w2v.wv.vocab)[i])\n",
    "            unk_closet=\"\"\n",
    "            if list(w2v.wv.vocab)[i][0] == unk[0]:\n",
    "                if dist < mini:\n",
    "                    mini = dist\n",
    "                    unk_closest = list(w2v.wv.vocab)[i]\n",
    "        if unk_closet==\"\":\n",
    "            return 'pad_word'\n",
    "        else:\n",
    "            return unk_closest\n",
    "\n",
    "\n",
    "    sent = sent.split(\" \")\n",
    "    a = []\n",
    "    for i in range(len(sent)):\n",
    "        try:\n",
    "            a.append(w2v.wv[sent[i]])\n",
    "        except KeyError:\n",
    "            sent[i] = unk_words(sent[i])\n",
    "            a.append(w2v.wv[sent[i]])\n",
    "    for i in range(10 - len(a)):\n",
    "        a.append(w2v.wv['pad_word'])\n",
    "    a = np.array(a)\n",
    "    a = a.reshape([1,len(a),20])\n",
    "    \n",
    "    pred=model_inf.predict(a)\n",
    "    confidence=pred[0][np.argmax(pred)]\n",
    "    \n",
    "    if confidence>0.80:\n",
    "        return target_classes[np.argmax(pred)]\n",
    "    else:\n",
    "        return 'bad intent'"
   ]
  }
 ],
 "metadata": {
  "kernelspec": {
   "display_name": "Python 3",
   "language": "python",
   "name": "python3"
  },
  "language_info": {
   "codemirror_mode": {
    "name": "ipython",
    "version": 3
   },
   "file_extension": ".py",
   "mimetype": "text/x-python",
   "name": "python",
   "nbconvert_exporter": "python",
   "pygments_lexer": "ipython3",
   "version": "3.6.3"
  }
 },
 "nbformat": 4,
 "nbformat_minor": 2
}
