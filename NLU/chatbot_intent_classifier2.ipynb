{
 "cells": [
  {
   "cell_type": "code",
   "execution_count": 16,
   "metadata": {
    "collapsed": true
   },
   "outputs": [],
   "source": [
    "import warnings\n",
    "warnings.filterwarnings(\"ignore\")\n",
    "import json\n",
    "import codecs\n",
    "from sklearn.model_selection import train_test_split\n",
    "import pandas as pd\n",
    "import numpy as np\n",
    "import editdistance\n",
    "import keras"
   ]
  },
  {
   "cell_type": "code",
   "execution_count": 17,
   "metadata": {
    "collapsed": true
   },
   "outputs": [],
   "source": [
    "js=json.load(codecs.open('all_classes.json', 'r', 'utf-8-sig'))\n",
    "check_all_classes = []\n",
    "tmp = []\n",
    "for i in range(len(js['what_class_day'])):\n",
    "    for j in range(len(js['what_class_day'][i])):\n",
    "        tmp.append(js['what_class_day'][i][j]['value'])\n",
    "    tmp = ''.join(tmp)\n",
    "    check_all_classes.append(tmp)\n",
    "    tmp = []"
   ]
  },
  {
   "cell_type": "code",
   "execution_count": 256,
   "metadata": {
    "collapsed": true
   },
   "outputs": [],
   "source": [
    "js=json.load(codecs.open('check_assignment_due.json', 'r', 'utf-8-sig'))\n",
    "check_assignment_due=[]\n",
    "tmp = []\n",
    "for i in range(len(js['check_assignemnt_for_particular_subject'])):\n",
    "    for j in range(len(js['check_assignemnt_for_particular_subject'][i])):\n",
    "        tmp.append(js['check_assignemnt_for_particular_subject'][i][j]['value'])\n",
    "    tmp = ''.join(tmp)\n",
    "    check_assignment_due.append(tmp)\n",
    "    tmp = []"
   ]
  },
  {
   "cell_type": "code",
   "execution_count": 257,
   "metadata": {
    "collapsed": true
   },
   "outputs": [],
   "source": [
    "js=json.load(codecs.open('find_whether_a_class.json', 'r', 'utf-8-sig'))\n",
    "check_when_class=[]\n",
    "tmp = []\n",
    "for i in range(len(js['find_when_lecture_is'])):\n",
    "    for j in range(len(js['find_when_lecture_is'][i])):\n",
    "        tmp.append(js['find_when_lecture_is'][i][j]['value'])\n",
    "    tmp = ''.join(tmp)\n",
    "    check_when_class.append(tmp)\n",
    "    tmp = []"
   ]
  },
  {
   "cell_type": "code",
   "execution_count": 258,
   "metadata": {
    "collapsed": true
   },
   "outputs": [],
   "source": [
    "js=json.load(codecs.open('find_what_is_particular_class.json', 'r', 'utf-8-sig'))\n",
    "check_particular_class=[]\n",
    "tmp = []\n",
    "for i in range(len(js['find_what_lecture'])):\n",
    "    for j in range(len(js['find_what_lecture'][i])):\n",
    "        tmp.append(js['find_what_lecture'][i][j]['value'])\n",
    "    tmp = ''.join(tmp)\n",
    "    check_particular_class.append(tmp)\n",
    "    tmp = []"
   ]
  },
  {
   "cell_type": "code",
   "execution_count": 259,
   "metadata": {
    "collapsed": true
   },
   "outputs": [],
   "source": [
    "js=json.load(codecs.open('where_class.json', 'r', 'utf-8-sig'))\n",
    "check_where_class=[]\n",
    "tmp = []\n",
    "for i in range(len(js['where_class'])):\n",
    "    for j in range(len(js['where_class'][i])):\n",
    "        tmp.append(js['where_class'][i][j]['value'])\n",
    "    tmp = ''.join(tmp)\n",
    "    check_where_class.append(tmp)\n",
    "    tmp = []"
   ]
  },
  {
   "cell_type": "code",
   "execution_count": 264,
   "metadata": {
    "collapsed": true
   },
   "outputs": [],
   "source": [
    "js=json.load(codecs.open('reminder_add.json', 'r', 'utf-8-sig'))\n",
    "add_remainder=[]\n",
    "tmp = []\n",
    "for i in range(len(js['add_remainder_v2'])):\n",
    "    for j in range(len(js['add_remainder_v2'][i])):\n",
    "        tmp.append(js['add_remainder_v2'][i][j]['value'])\n",
    "    tmp = ''.join(tmp)\n",
    "    add_remainder.append(tmp)\n",
    "    tmp = []"
   ]
  },
  {
   "cell_type": "code",
   "execution_count": 220,
   "metadata": {
    "collapsed": true
   },
   "outputs": [],
   "source": [
    "js=json.load(codecs.open('add_reminder_1.json', 'r', 'utf-8-sig'))\n",
    "ad1=[]\n",
    "tmp = []\n",
    "for i in range(len(js['add_remainder'])):\n",
    "    for j in range(len(js['add_remainder'][i])):\n",
    "        tmp.append(js['add_remainder'][i][j]['value'])\n",
    "    tmp = ''.join(tmp)\n",
    "    ad1.append(tmp)\n",
    "    tmp = []\n",
    "js=json.load(codecs.open('add_reminder_2.json', 'r', 'utf-8-sig'))\n",
    "ad2=[]\n",
    "tmp = []\n",
    "for i in range(len(js['add_remainder'])):\n",
    "    for j in range(len(js['add_remainder'][i])):\n",
    "        tmp.append(js['add_remainder'][i][j]['value'])\n",
    "    tmp = ''.join(tmp)\n",
    "    ad2.append(tmp)\n",
    "    tmp = []\n",
    "js=json.load(codecs.open('add_reminder_3.json', 'r', 'utf-8-sig'))\n",
    "ad3=[]\n",
    "tmp = []\n",
    "for i in range(len(js['add_remainder'])):\n",
    "    for j in range(len(js['add_remainder'][i])):\n",
    "        tmp.append(js['add_remainder'][i][j]['value'])\n",
    "    tmp = ''.join(tmp)\n",
    "    ad3.append(tmp)\n",
    "    tmp = []\n",
    "js=json.load(codecs.open('add_reminder_4.json', 'r', 'utf-8-sig'))\n",
    "ad4=[]\n",
    "tmp = []\n",
    "for i in range(len(js['add_remainder'])):\n",
    "    for j in range(len(js['add_remainder'][i])):\n",
    "        tmp.append(js['add_remainder'][i][j]['value'])\n",
    "    tmp = ''.join(tmp)\n",
    "    ad4.append(tmp)\n",
    "    tmp = []\n",
    "js=json.load(codecs.open('add_reminder_5.json', 'r', 'utf-8-sig'))\n",
    "ad5=[]\n",
    "tmp = []\n",
    "for i in range(len(js['add_remainder'])):\n",
    "    for j in range(len(js['add_remainder'][i])):\n",
    "        tmp.append(js['add_remainder'][i][j]['value'])\n",
    "    tmp = ''.join(tmp)\n",
    "    ad5.append(tmp)\n",
    "    tmp = []"
   ]
  },
  {
   "cell_type": "code",
   "execution_count": 221,
   "metadata": {
    "collapsed": true
   },
   "outputs": [],
   "source": [
    "add_remainder=ad1+ad2+ad3+ad4+ad5"
   ]
  },
  {
   "cell_type": "code",
   "execution_count": 265,
   "metadata": {},
   "outputs": [
    {
     "data": {
      "text/plain": [
       "['remaind me sunday about homework',\n",
       " 'remind me to 3rd march',\n",
       " 'remaind on next monday about suprise test',\n",
       " 'remind on next thursday to complete assignment',\n",
       " 'remind on thursday',\n",
       " 'remaind me on 3rd march about homework',\n",
       " 'remind me on 10th november to complete homwork',\n",
       " 'remind on 14-09-18 about suprise test',\n",
       " 'remind me 2nd feb about suprise quiz',\n",
       " 'remind me 11/04 to complete homwork']"
      ]
     },
     "execution_count": 265,
     "metadata": {},
     "output_type": "execute_result"
    }
   ],
   "source": [
    "add_remainder[-10:]"
   ]
  },
  {
   "cell_type": "code",
   "execution_count": 266,
   "metadata": {
    "collapsed": true
   },
   "outputs": [],
   "source": [
    "final_data=check_all_classes+check_assignment_due+check_when_class+check_particular_class+check_where_class+add_remainder"
   ]
  },
  {
   "cell_type": "code",
   "execution_count": 267,
   "metadata": {
    "collapsed": true
   },
   "outputs": [],
   "source": [
    "for i in range(0,len(final_data)):\n",
    "    final_data[i]=final_data[i].lower()\n",
    "    final_data[i]=final_data[i].split()"
   ]
  },
  {
   "cell_type": "code",
   "execution_count": 268,
   "metadata": {
    "collapsed": true
   },
   "outputs": [],
   "source": [
    "max_len = len(max(final_data,key = len))"
   ]
  },
  {
   "cell_type": "code",
   "execution_count": 269,
   "metadata": {},
   "outputs": [
    {
     "data": {
      "text/plain": [
       "8"
      ]
     },
     "execution_count": 269,
     "metadata": {},
     "output_type": "execute_result"
    }
   ],
   "source": [
    "max_len"
   ]
  },
  {
   "cell_type": "code",
   "execution_count": 270,
   "metadata": {
    "collapsed": true
   },
   "outputs": [],
   "source": [
    "for i in range(len(final_data)):\n",
    "    temp = final_data[i]\n",
    "    for j in range(max_len-len(temp)):\n",
    "        final_data[i] = final_data[i] + ['pad_word']"
   ]
  },
  {
   "cell_type": "code",
   "execution_count": 271,
   "metadata": {
    "collapsed": true
   },
   "outputs": [],
   "source": [
    "from gensim.models import Word2Vec"
   ]
  },
  {
   "cell_type": "code",
   "execution_count": 272,
   "metadata": {
    "collapsed": true
   },
   "outputs": [],
   "source": [
    "w2v = Word2Vec(final_data,size=20)"
   ]
  },
  {
   "cell_type": "code",
   "execution_count": 273,
   "metadata": {
    "collapsed": true
   },
   "outputs": [],
   "source": [
    "w2v.save('w2v_model_for_intent_classification.model')"
   ]
  },
  {
   "cell_type": "code",
   "execution_count": 274,
   "metadata": {},
   "outputs": [
    {
     "name": "stdout",
     "output_type": "stream",
     "text": [
      "word2vec done .. next training model\n"
     ]
    }
   ],
   "source": [
    "print(\"word2vec done .. next training model\")"
   ]
  },
  {
   "cell_type": "code",
   "execution_count": 275,
   "metadata": {
    "collapsed": true
   },
   "outputs": [],
   "source": [
    "target  = len(check_all_classes) * [0] + len(check_assignment_due)* [1] + len(check_when_class) * [2] + len(check_particular_class) * [3] + len(check_where_class) * [4] + len(add_remainder) * [5]\n",
    "target_classes = ['check_all_classes' ,'check_assignment_due', 'check_when_class', 'check_particular_class' , 'check_where_class' , 'add_reminder']"
   ]
  },
  {
   "cell_type": "code",
   "execution_count": 276,
   "metadata": {
    "collapsed": true,
    "scrolled": true
   },
   "outputs": [],
   "source": [
    "for i in range(len(final_data)):\n",
    "    for j in range(len(final_data[i])):\n",
    "        final_data[i][j] = w2v.wv[final_data[i][j]]"
   ]
  },
  {
   "cell_type": "code",
   "execution_count": 277,
   "metadata": {},
   "outputs": [
    {
     "data": {
      "text/plain": [
       "(34483, 8, 20)"
      ]
     },
     "execution_count": 277,
     "metadata": {},
     "output_type": "execute_result"
    }
   ],
   "source": [
    "np.shape(final_data)"
   ]
  },
  {
   "cell_type": "code",
   "execution_count": 278,
   "metadata": {},
   "outputs": [
    {
     "data": {
      "text/plain": [
       "34483"
      ]
     },
     "execution_count": 278,
     "metadata": {},
     "output_type": "execute_result"
    }
   ],
   "source": [
    "len(target)"
   ]
  },
  {
   "cell_type": "code",
   "execution_count": 279,
   "metadata": {
    "collapsed": true
   },
   "outputs": [],
   "source": [
    "x_train,x_test,y_train,y_test = train_test_split(final_data,target,test_size = 0.2,stratify = target,random_state = 1234)"
   ]
  },
  {
   "cell_type": "code",
   "execution_count": 280,
   "metadata": {
    "collapsed": true
   },
   "outputs": [],
   "source": [
    "y_train = pd.get_dummies(y_train)\n",
    "y_test = pd.get_dummies(y_test)"
   ]
  },
  {
   "cell_type": "code",
   "execution_count": 281,
   "metadata": {
    "collapsed": true
   },
   "outputs": [],
   "source": [
    "x_train = np.array(x_train)\n",
    "y_train = np.array(y_train)\n",
    "x_test = np.array(x_test)\n",
    "y_test = np.array(y_test)"
   ]
  },
  {
   "cell_type": "code",
   "execution_count": 282,
   "metadata": {},
   "outputs": [
    {
     "data": {
      "text/plain": [
       "(6897, 8, 20)"
      ]
     },
     "execution_count": 282,
     "metadata": {},
     "output_type": "execute_result"
    }
   ],
   "source": [
    "np.shape(x_test)"
   ]
  },
  {
   "cell_type": "code",
   "execution_count": 283,
   "metadata": {
    "collapsed": true
   },
   "outputs": [],
   "source": [
    "inp = keras.layers.Input(shape=[None,20])\n",
    "lstm=keras.layers.LSTM(16)(inp)\n",
    "out = keras.layers.Dense(6,activation='softmax')(lstm)"
   ]
  },
  {
   "cell_type": "code",
   "execution_count": 284,
   "metadata": {
    "collapsed": true
   },
   "outputs": [],
   "source": [
    "model = keras.Model(inputs = inp,outputs=out)"
   ]
  },
  {
   "cell_type": "code",
   "execution_count": 285,
   "metadata": {
    "collapsed": true
   },
   "outputs": [],
   "source": [
    "model.compile(optimizer='Adam',loss='categorical_crossentropy',metrics=['accuracy'])"
   ]
  },
  {
   "cell_type": "code",
   "execution_count": 286,
   "metadata": {},
   "outputs": [
    {
     "name": "stdout",
     "output_type": "stream",
     "text": [
      "_________________________________________________________________\n",
      "Layer (type)                 Output Shape              Param #   \n",
      "=================================================================\n",
      "input_5 (InputLayer)         (None, None, 20)          0         \n",
      "_________________________________________________________________\n",
      "lstm_5 (LSTM)                (None, 16)                2368      \n",
      "_________________________________________________________________\n",
      "dense_5 (Dense)              (None, 6)                 102       \n",
      "=================================================================\n",
      "Total params: 2,470\n",
      "Trainable params: 2,470\n",
      "Non-trainable params: 0\n",
      "_________________________________________________________________\n"
     ]
    }
   ],
   "source": [
    "model.summary()"
   ]
  },
  {
   "cell_type": "code",
   "execution_count": 289,
   "metadata": {},
   "outputs": [
    {
     "name": "stdout",
     "output_type": "stream",
     "text": [
      "Train on 27586 samples, validate on 6897 samples\n",
      "Epoch 1/1\n",
      "27586/27586 [==============================] - 13s 476us/step - loss: 0.2486 - acc: 0.9256 - val_loss: 0.0101 - val_acc: 0.9999\n"
     ]
    },
    {
     "data": {
      "text/plain": [
       "<keras.callbacks.History at 0x10f1ac438>"
      ]
     },
     "execution_count": 289,
     "metadata": {},
     "output_type": "execute_result"
    }
   ],
   "source": [
    "model.fit(x = x_train,y = y_train,batch_size = 32,epochs=1,verbose =1,validation_data = [x_test,y_test],shuffle = True)"
   ]
  },
  {
   "cell_type": "code",
   "execution_count": 290,
   "metadata": {
    "collapsed": true
   },
   "outputs": [],
   "source": [
    "model.save(\"intent_model.h5\")"
   ]
  },
  {
   "cell_type": "code",
   "execution_count": 58,
   "metadata": {},
   "outputs": [],
   "source": [
    "from keras.models import load_model\n",
    "from keras.layers import Input,LSTM,Dense\n",
    "from keras import Model\n",
    "from keras.models import load_model\n",
    "from gensim.models import Word2Vec\n",
    "import editdistance\n",
    "import numpy as np\n",
    "import editdistance\n",
    "\n",
    "\n",
    "target_classes = ['check_all_classes' ,'check_assignment_due', 'check_when_class', 'check_particular_class' , 'check_where_class' , 'add_reminder']\n",
    "model_inf = load_model('intent_model.h5')\n",
    "w2v = Word2Vec.load('w2v_model_for_intent_classification.model')\n",
    "\n",
    "def intent_classifier(sent):\n",
    "    \n",
    "    \n",
    "    \n",
    "    def unk_words(unk):\n",
    "        mini = 10\n",
    "        for i in range(len(w2v.wv.vocab)):\n",
    "            dist = editdistance.eval(unk,list(w2v.wv.vocab)[i])\n",
    "            unk_closet=\"\"\n",
    "            if list(w2v.wv.vocab)[i][0] == unk[0]:\n",
    "                if dist < mini:\n",
    "                    mini = dist\n",
    "                    unk_closest = list(w2v.wv.vocab)[i]\n",
    "        if unk_closet==\"\":\n",
    "            return 'pad_word'\n",
    "        else:\n",
    "            return unk_closest\n",
    "\n",
    "\n",
    "    sent = sent.split(\" \")\n",
    "    a = []\n",
    "    for i in range(len(sent)):\n",
    "        try:\n",
    "            a.append(w2v.wv[sent[i]])\n",
    "        except KeyError:\n",
    "            sent[i] = unk_words(sent[i])\n",
    "            a.append(w2v.wv[sent[i]])\n",
    "    for i in range(10 - len(a)):\n",
    "        a.append(w2v.wv['pad_word'])\n",
    "    a = np.array(a)\n",
    "    a = a.reshape([1,len(a),20])\n",
    "    \n",
    "    pred=model_inf.predict(a)\n",
    "    confidence=pred[0][np.argmax(pred)]\n",
    "    \n",
    "    if confidence>0.80:\n",
    "        return target_classes[np.argmax(pred)]\n",
    "    else:\n",
    "        return 'bad intent'"
   ]
  },
  {
   "cell_type": "code",
   "execution_count": 59,
   "metadata": {},
   "outputs": [
    {
     "name": "stdout",
     "output_type": "stream",
     "text": [
      "0.772693\n"
     ]
    },
    {
     "data": {
      "text/plain": [
       "'bad intent'"
      ]
     },
     "execution_count": 59,
     "metadata": {},
     "output_type": "execute_result"
    }
   ],
   "source": [
    "intent_classifier('you stupid idiit')"
   ]
  },
  {
   "cell_type": "code",
   "execution_count": null,
   "metadata": {
    "collapsed": true
   },
   "outputs": [],
   "source": []
  }
 ],
 "metadata": {
  "kernelspec": {
   "display_name": "Python 3",
   "language": "python",
   "name": "python3"
  },
  "language_info": {
   "codemirror_mode": {
    "name": "ipython",
    "version": 3
   },
   "file_extension": ".py",
   "mimetype": "text/x-python",
   "name": "python",
   "nbconvert_exporter": "python",
   "pygments_lexer": "ipython3",
   "version": "3.6.3"
  }
 },
 "nbformat": 4,
 "nbformat_minor": 2
}
