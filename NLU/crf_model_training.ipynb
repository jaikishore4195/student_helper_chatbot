{
 "cells": [
  {
   "cell_type": "code",
   "execution_count": 3,
   "metadata": {
    "collapsed": true
   },
   "outputs": [],
   "source": [
    "import pickle\n",
    "import numpy as np\n",
    "from sklearn_crfsuite import CRF\n",
    "\n",
    "with open('entity_data_X.pkl', 'rb') as pickle_load:\n",
    "    X = pickle.load(pickle_load)\n",
    "with open('entity_data_y.pkl', 'rb') as pickle_load:\n",
    "    y = pickle.load(pickle_load)"
   ]
  },
  {
   "cell_type": "code",
   "execution_count": 4,
   "metadata": {
    "collapsed": true
   },
   "outputs": [],
   "source": [
    "def entity_crf_train(my_subjects):\n",
    "    for i in range(0,len(X)):\n",
    "        for j in range(0,len(X[i])):\n",
    "            if 'sub' in X[i][j]:\n",
    "                subj=my_subjects[np.random.randint(len(my_subjects))]\n",
    "                subj=subj.split()\n",
    "                X[i]=X[i][:j]+subj+X[i][j+1:]\n",
    "                y[i]=y[i][:j]+['subject']*len(subj)+y[i][j+1:]\n",
    "        X[i]=X[i][0:10]  \n",
    "        y[i]=y[i][0:10]\n",
    "        \n",
    "    crf = CRF(c1=0.1,\n",
    "          c2=0.01,\n",
    "          max_iterations=200,\n",
    "          all_possible_transitions=True)\n",
    "    \n",
    "    print(\".....Training entity extraction model.....\")\n",
    "    crf.fit(X, y)\n",
    "    print(\".....Trained entity extraction model.....\")\n",
    "    \n",
    "    with open('crf_model.pkl', 'wb') as pickle_file:\n",
    "        pickle.dump(crf, pickle_file, protocol=pickle.HIGHEST_PROTOCOL)\n",
    "    with open('subjects.pkl','wb') as pickle_file:\n",
    "        pickle.dump(my_subjects,pickle_file,protocol=pickle.HIGHEST_PROTOCOL)"
   ]
  }
 ],
 "metadata": {
  "kernelspec": {
   "display_name": "Python 3",
   "language": "python",
   "name": "python3"
  },
  "language_info": {
   "codemirror_mode": {
    "name": "ipython",
    "version": 3
   },
   "file_extension": ".py",
   "mimetype": "text/x-python",
   "name": "python",
   "nbconvert_exporter": "python",
   "pygments_lexer": "ipython3",
   "version": "3.6.3"
  }
 },
 "nbformat": 4,
 "nbformat_minor": 2
}
