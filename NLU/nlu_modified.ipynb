{
 "cells": [
  {
   "cell_type": "code",
   "execution_count": 123,
   "metadata": {
    "collapsed": true
   },
   "outputs": [],
   "source": [
    "import intent_classify_final\n",
    "import crf_pred\n",
    "from nltk.corpus import stopwords\n",
    "import pickle\n",
    "\n",
    "def nlu(sent,intention='NA'):\n",
    "    if intention!='NA':\n",
    "        intent=intention\n",
    "        \n",
    "    intent=intent_classify_final.intent_classifier(sent)\n",
    "    if intent == 'bad intent':\n",
    "        return \"oops unable to understand the sentence please renter\"\n",
    "    \n",
    "    entities = crf_pred.entity_pred(sent)\n",
    "    \n",
    "   \n",
    "    entities_list=[]\n",
    "    for i in range(0,len(entities[1])):\n",
    "        if entities[1][i]!='0':\n",
    "            entities_list.append(entities[2][0][i])\n",
    "        \n",
    "    if intent=='add_reminder':\n",
    "        sentence=entities[2][0]\n",
    "        content_str=reminder_content(sentence,entities_list)\n",
    "        if content_str=='':\n",
    "            content_str='NA'\n",
    "        \n",
    "    else:\n",
    "        content_str=\"NA\"\n",
    "    \n",
    "    \n",
    "    if intention!='NA':\n",
    "        return content_str\n",
    "    \n",
    "    current_nlu_values = {}\n",
    "    \n",
    "    current_nlu_values['intent'] = intent\n",
    "    current_nlu_values['entities'] = entities[0]\n",
    "    current_nlu_values['content'] = content_str\n",
    "\n",
    "    \n",
    "    \n",
    "    return current_nlu_values\n",
    "\n",
    "def reminder_content(sentence,entities_list):\n",
    "    stop = set(stopwords.words('english'))\n",
    "    sentence=[i for i in sentence if i not in stop]\n",
    "    content=[]\n",
    "    for word in sentence:\n",
    "        if word not in entities_list+['remind']+['remaind']:\n",
    "            content.append(word)\n",
    "    \n",
    "    content_str=\" \".join(word for word in content)\n",
    "    return content_str\n"
   ]
  }
 ],
 "metadata": {
  "kernelspec": {
   "display_name": "Python 3",
   "language": "python",
   "name": "python3"
  },
  "language_info": {
   "codemirror_mode": {
    "name": "ipython",
    "version": 3
   },
   "file_extension": ".py",
   "mimetype": "text/x-python",
   "name": "python",
   "nbconvert_exporter": "python",
   "pygments_lexer": "ipython3",
   "version": "3.6.3"
  }
 },
 "nbformat": 4,
 "nbformat_minor": 2
}
