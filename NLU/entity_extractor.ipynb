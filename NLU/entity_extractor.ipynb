{
 "cells": [
  {
   "cell_type": "code",
   "execution_count": 1,
   "metadata": {},
   "outputs": [
    {
     "name": "stderr",
     "output_type": "stream",
     "text": [
      "Using TensorFlow backend.\n"
     ]
    }
   ],
   "source": [
    "import warnings\n",
    "warnings.filterwarnings(\"ignore\")\n",
    "import json\n",
    "import codecs\n",
    "from sklearn.model_selection import train_test_split\n",
    "import pandas as pd\n",
    "import numpy as np\n",
    "import editdistance\n",
    "import tensorflow as tf\n",
    "import keras\n",
    "from gensim.models import Word2Vec\n",
    "from string import ascii_letters\n",
    "from string import printable"
   ]
  },
  {
   "cell_type": "code",
   "execution_count": null,
   "metadata": {},
   "outputs": [],
   "source": []
  },
  {
   "cell_type": "code",
   "execution_count": 126,
   "metadata": {},
   "outputs": [],
   "source": [
    "def preprocessing(js):\n",
    "    temp = []\n",
    "    final = []\n",
    "    for i in range(len(js[list(js.keys())[0]])):\n",
    "        for j in range(len(js[list(js.keys())[0]][i])):\n",
    "            if js[list(js.keys())[0]][i][j]['type'] == 'Text':\n",
    "                temp = temp + [(k,0) for k in js[list(js.keys())[0]][i][j]['value'].split(\" \") if k != '']\n",
    "            else:\n",
    "                temp = temp + [(k,js[list(js.keys())[0]][i][j]['slot']) for k in js[list(js.keys())[0]][i][j]['value'].split(\" \") if k != '']\n",
    "\n",
    "        final.append(temp)\n",
    "        temp = []\n",
    "        \n",
    "    return final"
   ]
  },
  {
   "cell_type": "code",
   "execution_count": 127,
   "metadata": {},
   "outputs": [],
   "source": [
    "js=json.load(codecs.open('all_classes.json', 'r', 'utf-8-sig'))\n",
    "check_all_classes = preprocessing(js)"
   ]
  },
  {
   "cell_type": "code",
   "execution_count": 128,
   "metadata": {},
   "outputs": [],
   "source": [
    "js=json.load(codecs.open('cehck_for_reminders.json', 'r', 'utf-8-sig'))\n",
    "check_for_reminders = preprocessing(js)"
   ]
  },
  {
   "cell_type": "code",
   "execution_count": 129,
   "metadata": {},
   "outputs": [],
   "source": [
    "js=json.load(codecs.open('check_assignment_due.json', 'r', 'utf-8-sig'))\n",
    "check_assignment_due = preprocessing(js)"
   ]
  },
  {
   "cell_type": "code",
   "execution_count": 130,
   "metadata": {},
   "outputs": [],
   "source": [
    "js=json.load(codecs.open('find_whether_a_class.json', 'r', 'utf-8-sig'))\n",
    "check_when_class_is = preprocessing(js)"
   ]
  },
  {
   "cell_type": "code",
   "execution_count": 131,
   "metadata": {},
   "outputs": [],
   "source": [
    "js=json.load(codecs.open('find_what_is_particular_class.json', 'r', 'utf-8-sig'))\n",
    "check_what_lecture = preprocessing(js)"
   ]
  },
  {
   "cell_type": "code",
   "execution_count": 132,
   "metadata": {},
   "outputs": [],
   "source": [
    "js=json.load(codecs.open('reminder_add.json', 'r', 'utf-8-sig'))\n",
    "add_reminder = preprocessing(js)"
   ]
  },
  {
   "cell_type": "code",
   "execution_count": 133,
   "metadata": {},
   "outputs": [],
   "source": [
    "js=json.load(codecs.open('where_class.json', 'r', 'utf-8-sig'))\n",
    "where_class = preprocessing(js)"
   ]
  },
  {
   "cell_type": "code",
   "execution_count": 134,
   "metadata": {},
   "outputs": [],
   "source": [
    "final_data = check_all_classes + check_for_reminders + check_assignment_due + check_when_class_is + check_what_lecture + add_reminder + where_class"
   ]
  },
  {
   "cell_type": "code",
   "execution_count": 135,
   "metadata": {},
   "outputs": [],
   "source": [
    "max_len = len(max(final_data,key = len))"
   ]
  },
  {
   "cell_type": "code",
   "execution_count": 136,
   "metadata": {},
   "outputs": [
    {
     "data": {
      "text/plain": [
       "'for i in range(len(final_data)):\\n    for j in range(max_len-len(final_data[i])):\\n        final_data[i] = final_data[i] + [(\"pad_word\",0)]'"
      ]
     },
     "execution_count": 136,
     "metadata": {},
     "output_type": "execute_result"
    }
   ],
   "source": [
    "'''for i in range(len(final_data)):\n",
    "    for j in range(max_len-len(final_data[i])):\n",
    "        final_data[i] = final_data[i] + [(\"pad_word\",0)]'''"
   ]
  },
  {
   "cell_type": "code",
   "execution_count": 137,
   "metadata": {},
   "outputs": [],
   "source": [
    "for i in range(len(final_data)):\n",
    "    for j in range(len(final_data[i])):\n",
    "        if final_data[i][j][1] == 'count':\n",
    "            final_data[i][j] = (final_data[i][j][0],1)\n",
    "        elif final_data[i][j][1] == 'day':\n",
    "            final_data[i][j] = (final_data[i][j][0],2)\n",
    "        elif final_data[i][j][1] == 'subject':\n",
    "            final_data[i][j] = (final_data[i][j][0],3)"
   ]
  },
  {
   "cell_type": "code",
   "execution_count": null,
   "metadata": {},
   "outputs": [],
   "source": []
  },
  {
   "cell_type": "code",
   "execution_count": 138,
   "metadata": {},
   "outputs": [],
   "source": [
    "train = []\n",
    "target = []\n",
    "\n",
    "temp0 = []\n",
    "temp1 = []\n",
    "\n",
    "for i in range(len(final_data)):\n",
    "    for j in range(len(final_data[i])):\n",
    "        temp0 = temp0 + [final_data[i][j][0]]\n",
    "        temp1 = temp1 + [final_data[i][j][1]]\n",
    "    train.append(temp0)\n",
    "    target.append(temp1)\n",
    "    temp0 = []\n",
    "    temp1 = []"
   ]
  },
  {
   "cell_type": "code",
   "execution_count": 139,
   "metadata": {},
   "outputs": [],
   "source": [
    "for i in range(len(train)):\n",
    "    for j in range(10-len(train[i])):\n",
    "        train[i] = train[i] + [\"pad\"]\n",
    "        target[i] = target[i] + [0]"
   ]
  },
  {
   "cell_type": "code",
   "execution_count": 140,
   "metadata": {
    "scrolled": true
   },
   "outputs": [
    {
     "data": {
      "text/plain": [
       "100"
      ]
     },
     "execution_count": 140,
     "metadata": {},
     "output_type": "execute_result"
    }
   ],
   "source": [
    "len(list(printable))"
   ]
  },
  {
   "cell_type": "code",
   "execution_count": 141,
   "metadata": {},
   "outputs": [],
   "source": [
    "count = range(0,len(list(printable)))\n",
    "vocab_dict = dict(zip(list(printable),count))"
   ]
  },
  {
   "cell_type": "code",
   "execution_count": 142,
   "metadata": {},
   "outputs": [],
   "source": [
    "vocab_dict['char_pad'] = 100"
   ]
  },
  {
   "cell_type": "code",
   "execution_count": 143,
   "metadata": {},
   "outputs": [],
   "source": [
    "for i in range(len(train)):\n",
    "    for j in range(len(train[i])):\n",
    "        embd = [vocab_dict[i] for i in list(train[i][j])]\n",
    "        temp = np.zeros([len(embd),len(vocab_dict)],dtype=np.int32)\n",
    "        for k in range(len(embd)):\n",
    "            temp[k][embd[k]] =1\n",
    "        train[i][j] = temp"
   ]
  },
  {
   "cell_type": "code",
   "execution_count": 243,
   "metadata": {},
   "outputs": [],
   "source": [
    "for i in range(len(target)):\n",
    "    for j in range(len(target[i])):\n",
    "        if target[i][j] == 0:\n",
    "            target[i][j] = [0,0,0,0]\n",
    "        elif target[i][j] == 1:\n",
    "            target[i][j] = [0,1,0,0]\n",
    "        elif target[i][j] == 2:\n",
    "            target[i][j] = [0,0,1,0]\n",
    "        elif target[i][j] == 3:\n",
    "            target[i][j] = [0,0,0,1]"
   ]
  },
  {
   "cell_type": "code",
   "execution_count": 244,
   "metadata": {},
   "outputs": [],
   "source": [
    "x_train,x_test,y_train,y_test = train_test_split(train,target,test_size = 0.2,random_state = 1234)"
   ]
  },
  {
   "cell_type": "code",
   "execution_count": 227,
   "metadata": {},
   "outputs": [],
   "source": [
    "from keras.models import Model, Input\n",
    "from keras.layers import LSTM, Embedding, Dense, TimeDistributed, Dropout, Conv1D\n",
    "from keras.layers import Bidirectional, concatenate, SpatialDropout1D, GlobalMaxPooling1D"
   ]
  },
  {
   "cell_type": "code",
   "execution_count": 229,
   "metadata": {},
   "outputs": [
    {
     "name": "stdout",
     "output_type": "stream",
     "text": [
      "_________________________________________________________________\n",
      "Layer (type)                 Output Shape              Param #   \n",
      "=================================================================\n",
      "input_6 (InputLayer)         (None, None, 10, 101)     0         \n",
      "_________________________________________________________________\n",
      "time_distributed_3 (TimeDist (None, None, 32)          17152     \n",
      "_________________________________________________________________\n",
      "lstm_5 (LSTM)                (None, None, 32)          8320      \n",
      "_________________________________________________________________\n",
      "time_distributed_4 (TimeDist (None, None, 4)           132       \n",
      "=================================================================\n",
      "Total params: 25,604\n",
      "Trainable params: 25,604\n",
      "Non-trainable params: 0\n",
      "_________________________________________________________________\n"
     ]
    }
   ],
   "source": [
    "inp = keras.layers.Input(shape=[None,10,101])\n",
    "\n",
    "char_enc = TimeDistributed(LSTM(units=32, return_sequences=False,\n",
    "                                recurrent_dropout=0.5))(inp)\n",
    "\n",
    "lstm = keras.layers.LSTM(32,return_sequences=True)(char_enc)\n",
    "out = keras.layers.TimeDistributed(keras.layers.Dense(4,activation='softmax'))(lstm)\n",
    "model = keras.Model(inputs = inp,outputs=out)\n",
    "model.compile(optimizer='Adam',loss='categorical_crossentropy',metrics=['accuracy'])\n",
    "model.summary()"
   ]
  },
  {
   "cell_type": "code",
   "execution_count": 251,
   "metadata": {},
   "outputs": [
    {
     "name": "stdout",
     "output_type": "stream",
     "text": [
      "[0.0007363132, 0.3]\n",
      "[0.00075378746, 0.2]\n",
      "[3.4397795e-05, 0.1]\n",
      "[7.79254e-05, 0.2]\n",
      "[6.7477886e-05, 0.2]\n",
      "[0.0038311332, 0.2]\n",
      "[0.003066896, 0.2]\n",
      "[0.0008694728, 0.1]\n",
      "[4.471944e-05, 0.1]\n",
      "[0.0007558734, 0.2]\n",
      "[0.00072739966, 0.3]\n",
      "[0.0007422495, 0.2]\n",
      "[0.011816174, 0.2]\n",
      "[0.00066931365, 0.2]\n",
      "[0.0031434796, 0.2]\n",
      "[3.499405e-05, 0.1]\n",
      "[0.0013744807, 0.3]\n",
      "[0.008798795, 0.2]\n",
      "[6.68997e-05, 0.2]\n",
      "[0.023257896, 0.3]\n",
      "[0.0011109214, 0.3]\n",
      "[0.00076219055, 0.2]\n",
      "[0.04209716, 0.3]\n",
      "[0.00064401055, 0.2]\n",
      "[0.000687469, 0.2]\n",
      "[0.002039664, 0.2]\n",
      "[0.0011566242, 0.2]\n",
      "[0.001394741, 0.2]\n",
      "[0.000683388, 0.2]\n",
      "[9.907623e-05, 0.1]\n",
      "[0.011503984, 0.3]\n",
      "[0.0011305892, 0.3]\n",
      "[2.5913498e-05, 0.1]\n",
      "[0.0010758212, 0.2]\n",
      "[0.0006969583, 0.2]\n",
      "[9.945277e-05, 0.2]\n",
      "[0.000987306, 0.3]\n",
      "[0.0007561719, 0.3]\n",
      "[0.0008815896, 0.2]\n",
      "[0.0009010992, 0.2]\n",
      "[0.0015352515, 0.2]\n",
      "[0.0006668364, 0.2]\n",
      "[0.0006187983, 0.2]\n",
      "[0.0016815823, 0.2]\n",
      "[0.015697803, 0.2]\n",
      "[0.00086289534, 0.3]\n",
      "[0.0010122126, 0.2]\n",
      "[0.00088720565, 0.3]\n",
      "[0.0009252823, 0.3]\n",
      "[0.00080428657, 0.3]\n",
      "[0.0011885088, 0.3]\n",
      "[0.00089390937, 0.3]\n",
      "[0.0007252001, 0.2]\n",
      "[0.00068537396, 0.2]\n",
      "[0.00090527505, 0.2]\n",
      "[0.00072855176, 0.3]\n",
      "[0.00057504035, 0.3]\n",
      "[0.00050700165, 0.2]\n",
      "[0.0001440907, 0.1]\n",
      "[0.0006090455, 0.3]\n",
      "[0.0009042237, 0.2]\n",
      "[0.00077390845, 0.3]\n",
      "[0.0010235542, 0.2]\n",
      "[0.00085210614, 0.3]\n",
      "[0.0009721393, 0.3]\n",
      "[0.005488265, 0.2]\n",
      "[0.015635055, 0.2]\n",
      "[0.0010795832, 0.2]\n",
      "[0.0007789576, 0.3]\n",
      "[0.0007888564, 0.2]\n",
      "[7.5082346e-05, 0.1]\n",
      "[0.008856164, 0.3]\n",
      "[0.00071210234, 0.3]\n",
      "[3.2454034e-05, 0.1]\n",
      "[0.00085395126, 0.3]\n",
      "[0.00077693985, 0.2]\n",
      "[0.0, 0.0]\n",
      "[0.009167707, 0.2]\n",
      "[0.0009244632, 0.2]\n",
      "[0.00059832557, 0.3]\n",
      "[0.00013090801, 0.2]\n",
      "[4.2852997e-05, 0.1]\n",
      "[0.0006181243, 0.2]\n",
      "[0.001106997, 0.2]\n",
      "[0.00067791506, 0.2]\n",
      "[0.0008768292, 0.2]\n",
      "[0.0008202636, 0.2]\n",
      "[6.474149e-05, 0.2]\n",
      "[0.00058923406, 0.3]\n",
      "[0.0017807953, 0.2]\n",
      "[0.0005567348, 0.2]\n",
      "[0.00013324532, 0.2]\n",
      "[0.00060750265, 0.3]\n",
      "[0.0007688719, 0.3]\n",
      "[0.00010625894, 0.2]\n",
      "[0.007657771, 0.2]\n",
      "[0.00067519234, 0.2]\n",
      "[0.0011492139, 0.2]\n",
      "[0.016093183, 0.2]\n",
      "[0.00065269676, 0.3]\n",
      "[0.010585217, 0.3]\n",
      "[0.00334184, 0.3]\n",
      "[0.06186668, 0.3]\n",
      "[0.0005954547, 0.3]\n",
      "[0.0072883754, 0.1]\n"
     ]
    },
    {
     "ename": "KeyboardInterrupt",
     "evalue": "",
     "output_type": "error",
     "traceback": [
      "\u001b[1;31m---------------------------------------------------------------------------\u001b[0m",
      "\u001b[1;31mKeyboardInterrupt\u001b[0m                         Traceback (most recent call last)",
      "\u001b[1;32m<ipython-input-251-d5da1e7d6332>\u001b[0m in \u001b[0;36m<module>\u001b[1;34m()\u001b[0m\n\u001b[0;32m     15\u001b[0m         \u001b[0mtemp1\u001b[0m\u001b[1;33m[\u001b[0m\u001b[1;36m0\u001b[0m\u001b[1;33m]\u001b[0m\u001b[1;33m[\u001b[0m\u001b[0mi\u001b[0m\u001b[1;33m]\u001b[0m \u001b[1;33m=\u001b[0m \u001b[0mtemp\u001b[0m\u001b[1;33m[\u001b[0m\u001b[0mi\u001b[0m\u001b[1;33m]\u001b[0m\u001b[1;33m\u001b[0m\u001b[0m\n\u001b[0;32m     16\u001b[0m \u001b[1;33m\u001b[0m\u001b[0m\n\u001b[1;32m---> 17\u001b[1;33m     \u001b[0mprint\u001b[0m\u001b[1;33m(\u001b[0m\u001b[0mmodel\u001b[0m\u001b[1;33m.\u001b[0m\u001b[0mtrain_on_batch\u001b[0m\u001b[1;33m(\u001b[0m\u001b[0mtemp1\u001b[0m\u001b[1;33m,\u001b[0m\u001b[0mfeed_target\u001b[0m\u001b[1;33m)\u001b[0m\u001b[1;33m)\u001b[0m\u001b[1;33m\u001b[0m\u001b[0m\n\u001b[0m\u001b[0;32m     18\u001b[0m \u001b[1;33m\u001b[0m\u001b[0m\n\u001b[0;32m     19\u001b[0m     \u001b[0mitem\u001b[0m \u001b[1;33m+=\u001b[0m \u001b[1;36m1\u001b[0m\u001b[1;33m\u001b[0m\u001b[0m\n",
      "\u001b[1;32m~\\Anaconda3\\lib\\site-packages\\keras\\engine\\training.py\u001b[0m in \u001b[0;36mtrain_on_batch\u001b[1;34m(self, x, y, sample_weight, class_weight)\u001b[0m\n\u001b[0;32m   1213\u001b[0m             \u001b[0mins\u001b[0m \u001b[1;33m=\u001b[0m \u001b[0mx\u001b[0m \u001b[1;33m+\u001b[0m \u001b[0my\u001b[0m \u001b[1;33m+\u001b[0m \u001b[0msample_weights\u001b[0m\u001b[1;33m\u001b[0m\u001b[0m\n\u001b[0;32m   1214\u001b[0m         \u001b[0mself\u001b[0m\u001b[1;33m.\u001b[0m\u001b[0m_make_train_function\u001b[0m\u001b[1;33m(\u001b[0m\u001b[1;33m)\u001b[0m\u001b[1;33m\u001b[0m\u001b[0m\n\u001b[1;32m-> 1215\u001b[1;33m         \u001b[0moutputs\u001b[0m \u001b[1;33m=\u001b[0m \u001b[0mself\u001b[0m\u001b[1;33m.\u001b[0m\u001b[0mtrain_function\u001b[0m\u001b[1;33m(\u001b[0m\u001b[0mins\u001b[0m\u001b[1;33m)\u001b[0m\u001b[1;33m\u001b[0m\u001b[0m\n\u001b[0m\u001b[0;32m   1216\u001b[0m         \u001b[1;32mreturn\u001b[0m \u001b[0munpack_singleton\u001b[0m\u001b[1;33m(\u001b[0m\u001b[0moutputs\u001b[0m\u001b[1;33m)\u001b[0m\u001b[1;33m\u001b[0m\u001b[0m\n\u001b[0;32m   1217\u001b[0m \u001b[1;33m\u001b[0m\u001b[0m\n",
      "\u001b[1;32m~\\Anaconda3\\lib\\site-packages\\keras\\backend\\tensorflow_backend.py\u001b[0m in \u001b[0;36m__call__\u001b[1;34m(self, inputs)\u001b[0m\n\u001b[0;32m   2664\u001b[0m                 \u001b[1;32mreturn\u001b[0m \u001b[0mself\u001b[0m\u001b[1;33m.\u001b[0m\u001b[0m_legacy_call\u001b[0m\u001b[1;33m(\u001b[0m\u001b[0minputs\u001b[0m\u001b[1;33m)\u001b[0m\u001b[1;33m\u001b[0m\u001b[0m\n\u001b[0;32m   2665\u001b[0m \u001b[1;33m\u001b[0m\u001b[0m\n\u001b[1;32m-> 2666\u001b[1;33m             \u001b[1;32mreturn\u001b[0m \u001b[0mself\u001b[0m\u001b[1;33m.\u001b[0m\u001b[0m_call\u001b[0m\u001b[1;33m(\u001b[0m\u001b[0minputs\u001b[0m\u001b[1;33m)\u001b[0m\u001b[1;33m\u001b[0m\u001b[0m\n\u001b[0m\u001b[0;32m   2667\u001b[0m         \u001b[1;32melse\u001b[0m\u001b[1;33m:\u001b[0m\u001b[1;33m\u001b[0m\u001b[0m\n\u001b[0;32m   2668\u001b[0m             \u001b[1;32mif\u001b[0m \u001b[0mpy_any\u001b[0m\u001b[1;33m(\u001b[0m\u001b[0mis_tensor\u001b[0m\u001b[1;33m(\u001b[0m\u001b[0mx\u001b[0m\u001b[1;33m)\u001b[0m \u001b[1;32mfor\u001b[0m \u001b[0mx\u001b[0m \u001b[1;32min\u001b[0m \u001b[0minputs\u001b[0m\u001b[1;33m)\u001b[0m\u001b[1;33m:\u001b[0m\u001b[1;33m\u001b[0m\u001b[0m\n",
      "\u001b[1;32m~\\Anaconda3\\lib\\site-packages\\keras\\backend\\tensorflow_backend.py\u001b[0m in \u001b[0;36m_call\u001b[1;34m(self, inputs)\u001b[0m\n\u001b[0;32m   2634\u001b[0m                                 \u001b[0msymbol_vals\u001b[0m\u001b[1;33m,\u001b[0m\u001b[1;33m\u001b[0m\u001b[0m\n\u001b[0;32m   2635\u001b[0m                                 session)\n\u001b[1;32m-> 2636\u001b[1;33m         \u001b[0mfetched\u001b[0m \u001b[1;33m=\u001b[0m \u001b[0mself\u001b[0m\u001b[1;33m.\u001b[0m\u001b[0m_callable_fn\u001b[0m\u001b[1;33m(\u001b[0m\u001b[1;33m*\u001b[0m\u001b[0marray_vals\u001b[0m\u001b[1;33m)\u001b[0m\u001b[1;33m\u001b[0m\u001b[0m\n\u001b[0m\u001b[0;32m   2637\u001b[0m         \u001b[1;32mreturn\u001b[0m \u001b[0mfetched\u001b[0m\u001b[1;33m[\u001b[0m\u001b[1;33m:\u001b[0m\u001b[0mlen\u001b[0m\u001b[1;33m(\u001b[0m\u001b[0mself\u001b[0m\u001b[1;33m.\u001b[0m\u001b[0moutputs\u001b[0m\u001b[1;33m)\u001b[0m\u001b[1;33m]\u001b[0m\u001b[1;33m\u001b[0m\u001b[0m\n\u001b[0;32m   2638\u001b[0m \u001b[1;33m\u001b[0m\u001b[0m\n",
      "\u001b[1;32m~\\Anaconda3\\lib\\site-packages\\tensorflow\\python\\client\\session.py\u001b[0m in \u001b[0;36m__call__\u001b[1;34m(self, *args, **kwargs)\u001b[0m\n\u001b[0;32m   1380\u001b[0m           ret = tf_session.TF_SessionRunCallable(\n\u001b[0;32m   1381\u001b[0m               \u001b[0mself\u001b[0m\u001b[1;33m.\u001b[0m\u001b[0m_session\u001b[0m\u001b[1;33m.\u001b[0m\u001b[0m_session\u001b[0m\u001b[1;33m,\u001b[0m \u001b[0mself\u001b[0m\u001b[1;33m.\u001b[0m\u001b[0m_handle\u001b[0m\u001b[1;33m,\u001b[0m \u001b[0margs\u001b[0m\u001b[1;33m,\u001b[0m \u001b[0mstatus\u001b[0m\u001b[1;33m,\u001b[0m\u001b[1;33m\u001b[0m\u001b[0m\n\u001b[1;32m-> 1382\u001b[1;33m               run_metadata_ptr)\n\u001b[0m\u001b[0;32m   1383\u001b[0m         \u001b[1;32mif\u001b[0m \u001b[0mrun_metadata\u001b[0m\u001b[1;33m:\u001b[0m\u001b[1;33m\u001b[0m\u001b[0m\n\u001b[0;32m   1384\u001b[0m           \u001b[0mproto_data\u001b[0m \u001b[1;33m=\u001b[0m \u001b[0mtf_session\u001b[0m\u001b[1;33m.\u001b[0m\u001b[0mTF_GetBuffer\u001b[0m\u001b[1;33m(\u001b[0m\u001b[0mrun_metadata_ptr\u001b[0m\u001b[1;33m)\u001b[0m\u001b[1;33m\u001b[0m\u001b[0m\n",
      "\u001b[1;31mKeyboardInterrupt\u001b[0m: "
     ]
    }
   ],
   "source": [
    "item = 0\n",
    "while item < len(x_train):\n",
    "    temp = x_train[item]\n",
    "    feed_target = y_train[item]\n",
    "    \n",
    "    feed_target = np.array(feed_target).reshape([1,10,4])\n",
    "    \n",
    "    for k in range(len(temp)):\n",
    "        for j in range(10-len(temp[k])):\n",
    "            temp[k] = np.vstack((temp[k],char_pad))\n",
    "    \n",
    "    temp1 = np.zeros([1,10,10,101])\n",
    "    \n",
    "    for i in range(10):\n",
    "        temp1[0][i] = temp[i]\n",
    "    \n",
    "    print(model.train_on_batch(temp1,feed_target))\n",
    "    \n",
    "    item += 1\n",
    "    "
   ]
  },
  {
   "cell_type": "code",
   "execution_count": null,
   "metadata": {},
   "outputs": [],
   "source": []
  }
 ],
 "metadata": {
  "kernelspec": {
   "display_name": "Python 3",
   "language": "python",
   "name": "python3"
  },
  "language_info": {
   "codemirror_mode": {
    "name": "ipython",
    "version": 3
   },
   "file_extension": ".py",
   "mimetype": "text/x-python",
   "name": "python",
   "nbconvert_exporter": "python",
   "pygments_lexer": "ipython3",
   "version": "3.6.5"
  }
 },
 "nbformat": 4,
 "nbformat_minor": 2
}
