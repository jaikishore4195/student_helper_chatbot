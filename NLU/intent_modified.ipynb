{
 "cells": [
  {
   "cell_type": "code",
   "execution_count": 28,
   "metadata": {},
   "outputs": [],
   "source": [
    "from keras.models import load_model\n",
    "from keras.layers import Input,LSTM,Dense\n",
    "from keras import Model\n",
    "from keras.models import load_model\n",
    "from gensim.models import Word2Vec\n",
    "import numpy as np\n",
    "import editdistance\n",
    "\n",
    "target_classes = ['check_all_classes' ,'check_for_reminders', 'check_assignment_due', 'check_when_class_is' , 'check_what_lecture' , 'add_reminder','where_class']\n",
    "\n",
    "inp = Input(shape=[None,20])\n",
    "lstm=LSTM(16)(inp)\n",
    "out = Dense(7,activation='softmax')(lstm)\n",
    "model_inf = Model(inputs = inp,outputs=out)\n",
    "model_inf.load_weights('keras_model_weights.h5')\n",
    "\n",
    "'''def intt_model(data):\n",
    "    inp = Input(shape=[None,20])\n",
    "    lstm=LSTM(16)(inp)\n",
    "    out = Dense(7,activation='softmax')(lstm)\n",
    "    model_inf = Model(inputs = inp,outputs=out)\n",
    "    model_inf.load_weights('keras_model_weights.h5')\n",
    "    return model_inf.predict(data)'''\n",
    "    \n",
    "w2v = Word2Vec.load('w2v_model_for_intent_classification.model')\n",
    "\n",
    "def intent_classifier(sent):\n",
    "    \n",
    "    org_sen=sent\n",
    "    \n",
    "    def unk_words(unk):\n",
    "        mini = 10\n",
    "        for i in range(len(w2v.wv.vocab)):\n",
    "            dist = editdistance.eval(unk,list(w2v.wv.vocab)[i])\n",
    "            if list(w2v.wv.vocab)[i][0] == unk[0]:\n",
    "                if dist < mini:\n",
    "                    mini = dist\n",
    "                    unk_closest = list(w2v.wv.vocab)[i]\n",
    "        try:\n",
    "            return unk_closest\n",
    "        except:\n",
    "            return \"bad\"\n",
    "\n",
    "\n",
    "    sent = sent.split(\" \")\n",
    "    a = []\n",
    "    for i in range(len(sent)):\n",
    "        try:\n",
    "            a.append(w2v.wv[sent[i]])\n",
    "        except KeyError:\n",
    "            sent[i] = unk_words(sent[i])\n",
    "            if sent[i] == 'bad':\n",
    "                return 'bad'\n",
    "            a.append(w2v.wv[sent[i]])\n",
    "    for i in range(10 - len(a)):\n",
    "        a.append(w2v.wv['pad_word'])\n",
    "    a = np.array(a)\n",
    "    a = a.reshape([1,len(a),20])\n",
    "    \n",
    "    #return target_classes[np.argmax(intt_model(a)[0])],org_sen\n",
    "    return target_classes[np.argmax(model_inf.predict(a)[0])],org_sen\n"
   ]
  },
  {
   "cell_type": "code",
   "execution_count": 45,
   "metadata": {},
   "outputs": [
    {
     "data": {
      "text/plain": [
       "0.004541873931884766"
      ]
     },
     "execution_count": 45,
     "metadata": {},
     "output_type": "execute_result"
    }
   ],
   "source": [
    "import time\n",
    "st=time.time()\n",
    "intent_classifier(\"what is my first class today\")\n",
    "end=time.time()\n",
    "end-st"
   ]
  },
  {
   "cell_type": "code",
   "execution_count": 46,
   "metadata": {},
   "outputs": [
    {
     "data": {
      "text/plain": [
       "0.008810997009277344"
      ]
     },
     "execution_count": 46,
     "metadata": {},
     "output_type": "execute_result"
    }
   ],
   "source": [
    "st=time.time()\n",
    "intent_classifier(\"what is my first class today\")\n",
    "end=time.time()\n",
    "end-st"
   ]
  },
  {
   "cell_type": "code",
   "execution_count": null,
   "metadata": {
    "collapsed": true
   },
   "outputs": [],
   "source": []
  }
 ],
 "metadata": {
  "kernelspec": {
   "display_name": "Python 3",
   "language": "python",
   "name": "python3"
  },
  "language_info": {
   "codemirror_mode": {
    "name": "ipython",
    "version": 3
   },
   "file_extension": ".py",
   "mimetype": "text/x-python",
   "name": "python",
   "nbconvert_exporter": "python",
   "pygments_lexer": "ipython3",
   "version": "3.6.3"
  }
 },
 "nbformat": 4,
 "nbformat_minor": 2
}
