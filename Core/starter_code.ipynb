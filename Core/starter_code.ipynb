{
 "cells": [
  {
   "cell_type": "code",
   "execution_count": 7,
   "metadata": {},
   "outputs": [],
   "source": [
    "import db_create1\n",
    "import sqlite3\n",
    "import crf_training"
   ]
  },
  {
   "cell_type": "code",
   "execution_count": 8,
   "metadata": {},
   "outputs": [
    {
     "ename": "KeyError",
     "evalue": "'linear algebra'",
     "output_type": "error",
     "traceback": [
      "\u001b[0;31m---------------------------------------------------------------------------\u001b[0m",
      "\u001b[0;31mKeyError\u001b[0m                                  Traceback (most recent call last)",
      "\u001b[0;32m<ipython-input-8-d2e71665bb82>\u001b[0m in \u001b[0;36m<module>\u001b[0;34m()\u001b[0m\n\u001b[1;32m     16\u001b[0m \u001b[0mc2\u001b[0m\u001b[0;34m=\u001b[0m\u001b[0mconn2\u001b[0m\u001b[0;34m.\u001b[0m\u001b[0mcursor\u001b[0m\u001b[0;34m(\u001b[0m\u001b[0;34m)\u001b[0m\u001b[0;34m\u001b[0m\u001b[0m\n\u001b[1;32m     17\u001b[0m \u001b[0;34m\u001b[0m\u001b[0m\n\u001b[0;32m---> 18\u001b[0;31m \u001b[0mdb_create1\u001b[0m\u001b[0;34m.\u001b[0m\u001b[0mdatabase_create\u001b[0m\u001b[0;34m(\u001b[0m\u001b[0mno_of_subjects\u001b[0m\u001b[0;34m,\u001b[0m\u001b[0mmon\u001b[0m\u001b[0;34m,\u001b[0m\u001b[0mtues\u001b[0m\u001b[0;34m,\u001b[0m\u001b[0mwed\u001b[0m\u001b[0;34m,\u001b[0m\u001b[0mthurs\u001b[0m\u001b[0;34m,\u001b[0m\u001b[0mfri\u001b[0m\u001b[0;34m,\u001b[0m\u001b[0msat\u001b[0m\u001b[0;34m,\u001b[0m\u001b[0msun\u001b[0m\u001b[0;34m,\u001b[0m\u001b[0mlocations\u001b[0m\u001b[0;34m,\u001b[0m\u001b[0mc\u001b[0m\u001b[0;34m,\u001b[0m\u001b[0mc2\u001b[0m\u001b[0;34m,\u001b[0m\u001b[0mconn\u001b[0m\u001b[0;34m)\u001b[0m\u001b[0;34m\u001b[0m\u001b[0m\n\u001b[0m",
      "\u001b[0;32m~/Desktop/problems/chatbot_final 2/db_create1.py\u001b[0m in \u001b[0;36mdatabase_create\u001b[0;34m(no_of_subjects, mon, tues, wed, thurs, fri, sat, sun, locations, c, c2, conn)\u001b[0m\n\u001b[1;32m     50\u001b[0m         \u001b[0;32mwith\u001b[0m \u001b[0mconn\u001b[0m\u001b[0;34m:\u001b[0m\u001b[0;34m\u001b[0m\u001b[0m\n\u001b[1;32m     51\u001b[0m             c.execute(\"INSERT INTO timetable(subject,location) VALUES(:sub,:loc)\",{'sub':no_of_subjects[i],\n\u001b[0;32m---> 52\u001b[0;31m                                                                                'loc':locations[no_of_subjects[i]]})\n\u001b[0m\u001b[1;32m     53\u001b[0m \u001b[0;34m\u001b[0m\u001b[0m\n\u001b[1;32m     54\u001b[0m     \u001b[0;32mfor\u001b[0m \u001b[0mi\u001b[0m \u001b[0;32min\u001b[0m \u001b[0mrange\u001b[0m\u001b[0;34m(\u001b[0m\u001b[0;36m0\u001b[0m\u001b[0;34m,\u001b[0m\u001b[0mlen\u001b[0m\u001b[0;34m(\u001b[0m\u001b[0mworking_days\u001b[0m\u001b[0;34m)\u001b[0m\u001b[0;34m)\u001b[0m\u001b[0;34m:\u001b[0m\u001b[0;34m\u001b[0m\u001b[0m\n",
      "\u001b[0;31mKeyError\u001b[0m: 'linear algebra'"
     ]
    }
   ],
   "source": [
    "no_of_subjects=['linear algebra','python','data mining','probability']\n",
    "\n",
    "mon=[[\"subject1\",\"11:00-12:20\"],['subject2','17:00-18:20']]\n",
    "tues=[[\"subject3\",\"14:00-15:20\"],['subject4','11:00-12:20']]\n",
    "wed=[[\"subject1\",\"11:00-12:20\"],['subject2','17:00-18:20']]\n",
    "thurs=[[\"subject3\",\"14:00-15:20\"],['subject4','11:00-12:20']]\n",
    "fri=[]\n",
    "sat=[]\n",
    "sun=[]\n",
    "\n",
    "locations={'linear algebra':'baldy 10','python':'bell 250','subject3':'o brain4','subject4':'o brain4'}\n",
    "\n",
    "conn=sqlite3.Connection(\"timetable.db\")\n",
    "c=conn.cursor()\n",
    "conn2=sqlite3.Connection(\"remainders.db\")\n",
    "c2=conn2.cursor()\n",
    "\n",
    "db_create1.database_create(no_of_subjects,mon,tues,wed,thurs,fri,sat,sun,locations,c,c2,conn)"
   ]
  },
  {
   "cell_type": "code",
   "execution_count": 6,
   "metadata": {
    "collapsed": true
   },
   "outputs": [],
   "source": [
    "crf_training.entity_crf_train(no_of_subjects)"
   ]
  }
 ],
 "metadata": {
  "kernelspec": {
   "display_name": "Python 3",
   "language": "python",
   "name": "python3"
  },
  "language_info": {
   "codemirror_mode": {
    "name": "ipython",
    "version": 3
   },
   "file_extension": ".py",
   "mimetype": "text/x-python",
   "name": "python",
   "nbconvert_exporter": "python",
   "pygments_lexer": "ipython3",
   "version": "3.6.3"
  }
 },
 "nbformat": 4,
 "nbformat_minor": 2
}
