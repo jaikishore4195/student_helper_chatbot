{
 "cells": [
  {
   "cell_type": "code",
   "execution_count": 1,
   "metadata": {
    "collapsed": true
   },
   "outputs": [],
   "source": [
    "import sqlite3"
   ]
  },
  {
   "cell_type": "code",
   "execution_count": 2,
   "metadata": {
    "collapsed": true
   },
   "outputs": [],
   "source": [
    "def database_create(no_of_subjects,mon,tues,wed,thurs,fri,sat,sun,locations,c,c2,conn):\n",
    "    working_days=[]\n",
    "    all_classes=[]\n",
    "    if len(mon)!=0:\n",
    "        all_classes.append(mon)\n",
    "        working_days.append('monday')\n",
    "    elif len(tues)!=0:\n",
    "        all_classes.append(tues)\n",
    "        working_days.append('tuesday')\n",
    "    elif len(wed)!=0:\n",
    "        all_classes.append(wed)\n",
    "        working_days.append('wednesday')\n",
    "    elif len(thurs)!=0:\n",
    "        all_classes.append(thurs)\n",
    "        working_days.append('thursday')\n",
    "    elif len(fri)!=0:\n",
    "        all_classes.append(fri)\n",
    "        working_days.append('friday')\n",
    "    elif len(sat)!=0:\n",
    "        all_classes.append(sat)\n",
    "        working_days.append('saturday')\n",
    "    elif len(sun)!=0:\n",
    "        all_classes.append(sun)\n",
    "        working_days.append('sunday')\n",
    "        \n",
    "    \n",
    "    c.execute(\"\"\"CREATE TABLE timetable('subject' text,\n",
    "                                    'monday' text DEFAULT noclass,\n",
    "                                    tuesday text DEFAULT noclass,\n",
    "                                    wednesday text DEFAULT noclass,\n",
    "                                    thursday text DEFAULT noclass,\n",
    "                                    friday text DEFAULT noclass,\n",
    "                                    saturday text DEFAULT noclass,\n",
    "                                    sunday text DEFAULT noclass,\n",
    "                                    location text DEFAULT notspecified)\"\"\")\n",
    "    \n",
    "    for i in range(0,len(no_of_subjects)):\n",
    "        with conn:\n",
    "            c.execute(\"INSERT INTO timetable(subject,location) VALUES(:sub,:loc)\",{'sub':no_of_subjects[i],\n",
    "                                                                               'loc':locations[no_of_subjects[i]]})\n",
    "            \n",
    "    for i in range(0,len(working_days)):\n",
    "        for j in range(0,len(all_classes[i])):\n",
    "            with conn:\n",
    "                c.execute(\"\"\"UPDATE timetable SET %s=? WHERE subject=?\"\"\"% working_days[i],\n",
    "                                                      (all_classes[i][j][1],all_classes[i][j][0]))\n",
    "                \n",
    "    \n",
    "    c2.execute(\"\"\"CREATE TABLE remainders(subject text DEFAULT 'NA',\n",
    "                                     date DATE,\n",
    "                                     remainder text)\"\"\")\n",
    "    "
   ]
  },
  {
   "cell_type": "code",
   "execution_count": null,
   "metadata": {
    "collapsed": true
   },
   "outputs": [],
   "source": []
  }
 ],
 "metadata": {
  "kernelspec": {
   "display_name": "Python 3",
   "language": "python",
   "name": "python3"
  },
  "language_info": {
   "codemirror_mode": {
    "name": "ipython",
    "version": 3
   },
   "file_extension": ".py",
   "mimetype": "text/x-python",
   "name": "python",
   "nbconvert_exporter": "python",
   "pygments_lexer": "ipython3",
   "version": "3.6.3"
  }
 },
 "nbformat": 4,
 "nbformat_minor": 2
}
